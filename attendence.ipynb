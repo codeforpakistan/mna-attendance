{
 "cells": [
  {
   "cell_type": "code",
   "execution_count": 2,
   "metadata": {},
   "outputs": [],
   "source": [
    "from bs4 import BeautifulSoup\n",
    "from urllib.request import urlopen, urlretrieve, urlparse, urljoin\n",
    "import re, os, tabula, pandas\n",
    "from tqdm.notebook import tqdm\n",
    "from datetime import date"
   ]
  },
  {
   "cell_type": "markdown",
   "metadata": {},
   "source": [
    "### Build a list of files"
   ]
  },
  {
   "cell_type": "code",
   "execution_count": null,
   "metadata": {},
   "outputs": [],
   "source": [
    "html = urlopen(\"https://na.gov.pk/en/attendance2.php\").read()\n",
    "soup = BeautifulSoup(html)\n",
    "\n",
    "documents = {}\n",
    "for link in soup.findAll('a', attrs={'style': 'font-size:14px; color:#0000FF;', 'target': '_blank'}):\n",
    "    name = link.text\n",
    "    path = urljoin('https://na.gov.pk/en/', link.get('href'))\n",
    "    documents[name] = path\n",
    "documents"
   ]
  },
  {
   "cell_type": "markdown",
   "metadata": {},
   "source": [
    "### Download PDF documents"
   ]
  },
  {
   "cell_type": "code",
   "execution_count": null,
   "metadata": {},
   "outputs": [],
   "source": [
    "for name, path in tqdm(documents.items()):\n",
    "    urlretrieve(path, f\"pdf/{name}.pdf\")"
   ]
  },
  {
   "cell_type": "markdown",
   "metadata": {},
   "source": [
    "### Extract data from PDF files to CSV "
   ]
  },
  {
   "cell_type": "code",
   "execution_count": 3,
   "metadata": {},
   "outputs": [],
   "source": [
    "def process(index:int, df:pandas.DataFrame):\n",
    "    if index == 0:\n",
    "        return df.T.reset_index().T.iloc[3:]\n",
    "    else:\n",
    "        return df.T.reset_index().T.reset_index(drop=True)"
   ]
  },
  {
   "cell_type": "code",
   "execution_count": null,
   "metadata": {},
   "outputs": [],
   "source": [
    "for document in tqdm(documents.keys()):\n",
    "    dfs = tabula.read_pdf(f\"pdf/{document}.pdf\", pages='all')\n",
    "    dfs = [process(ix, df) for ix, df in enumerate(dfs)]\n",
    "    final = pandas.concat(dfs)\n",
    "    final = final.rename(columns={0: 'Serial', 1: 'Constituency', 2: 'Name', 3: 'Attendence'})\n",
    "    final.to_csv(f'data/{document}.csv', index=False)"
   ]
  },
  {
   "cell_type": "markdown",
   "metadata": {},
   "source": [
    "### Combine CSV files into one"
   ]
  },
  {
   "cell_type": "code",
   "execution_count": null,
   "metadata": {},
   "outputs": [],
   "source": [
    "CSV = [f\"data/{document}.csv\" for document in documents.keys()]\n",
    "\n",
    "dfs = []\n",
    "for document in tqdm(CSV):\n",
    "    df = pandas.read_csv(document)\n",
    "    df['Date'] = document\n",
    "    dfs.append(df)\n",
    "\n",
    "pandas.concat(dfs, ignore_index=True).to_csv('attendence.csv')"
   ]
  }
 ],
 "metadata": {
  "kernelspec": {
   "display_name": "base",
   "language": "python",
   "name": "python3"
  },
  "language_info": {
   "codemirror_mode": {
    "name": "ipython",
    "version": 3
   },
   "file_extension": ".py",
   "mimetype": "text/x-python",
   "name": "python",
   "nbconvert_exporter": "python",
   "pygments_lexer": "ipython3",
   "version": "3.8.8"
  },
  "orig_nbformat": 4,
  "vscode": {
   "interpreter": {
    "hash": "f58b1544ae297f13dcb947d12a3ce4f11a2c0187fdb484db4f6166d2a53bc18a"
   }
  }
 },
 "nbformat": 4,
 "nbformat_minor": 2
}
